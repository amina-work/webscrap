{
 "cells": [
  {
   "cell_type": "code",
   "execution_count": 69,
   "metadata": {},
   "outputs": [],
   "source": [
    "from bs4 import BeautifulSoup\n",
    "import requests\n",
    "import pandas as pd"
   ]
  },
  {
   "cell_type": "code",
   "execution_count": 70,
   "metadata": {},
   "outputs": [
    {
     "ename": "AttributeError",
     "evalue": "'NoneType' object has no attribute 'get_text'",
     "output_type": "error",
     "traceback": [
      "\u001b[1;31m---------------------------------------------------------------------------\u001b[0m",
      "\u001b[1;31mAttributeError\u001b[0m                            Traceback (most recent call last)",
      "Cell \u001b[1;32mIn[70], line 18\u001b[0m\n\u001b[0;32m     16\u001b[0m columns_data \u001b[39m=\u001b[39m table\u001b[39m.\u001b[39mfind_all(\u001b[39m'\u001b[39m\u001b[39mli\u001b[39m\u001b[39m'\u001b[39m)\n\u001b[0;32m     17\u001b[0m \u001b[39mfor\u001b[39;00m row \u001b[39min\u001b[39;00m columns_data:\n\u001b[1;32m---> 18\u001b[0m     rank_title \u001b[39m=\u001b[39m row\u001b[39m.\u001b[39;49mfind(\u001b[39m'\u001b[39;49m\u001b[39mh3\u001b[39;49m\u001b[39m'\u001b[39;49m, class_\u001b[39m=\u001b[39;49m\u001b[39m\"\u001b[39;49m\u001b[39mipc-title__text\u001b[39;49m\u001b[39m\"\u001b[39;49m)\u001b[39m.\u001b[39;49mget_text(strip\u001b[39m=\u001b[39m\u001b[39mTrue\u001b[39;00m)\n\u001b[0;32m     19\u001b[0m     rank, title \u001b[39m=\u001b[39m rank_title\u001b[39m.\u001b[39msplit(\u001b[39m'\u001b[39m\u001b[39m. \u001b[39m\u001b[39m'\u001b[39m, \u001b[39m1\u001b[39m)\n\u001b[0;32m     21\u001b[0m     data_list\u001b[39m.\u001b[39mappend({\u001b[39m\"\u001b[39m\u001b[39mRank\u001b[39m\u001b[39m\"\u001b[39m: rank, \u001b[39m\"\u001b[39m\u001b[39mTitle\u001b[39m\u001b[39m\"\u001b[39m: title})\n",
      "\u001b[1;31mAttributeError\u001b[0m: 'NoneType' object has no attribute 'get_text'"
     ]
    }
   ],
   "source": [
    "url = 'https://www.imdb.com/chart/boxoffice/?ref_=hm_cht_sm'\n",
    "headers = {'User-Agent': 'Mozilla/5.0 (Windows NT 10.0; Win64; x64) AppleWebKit/537.36 (KHTML, like Gecko) Chrome/58.0.3029.110 Safari/537.3'}\n",
    "page = requests.get(url, headers=headers)\n",
    "soup = BeautifulSoup(page.text, 'html.parser')\n",
    "\n",
    "boxoffice_table_titles = [\"Rank\", \"Title\"]\n",
    "data_list = []\n",
    "\n",
    "table = soup.find('ul', class_='ipc-metadata-list')\n",
    "\n",
    "columns_data = table.find_all('li', class_='ipc-metadata-list-summary-item')\n",
    "for row in columns_data:\n",
    "    rank_title = row.find('div', class_='ipc-title__text')\n",
    "    if rank_title:\n",
    "        rank = rank_title.get_text(strip=True).split('. ')[0]\n",
    "        title = rank_title.get_text(strip=True).split('. ')[1]\n",
    "\n",
    "        data_list.append({\"Rank\": rank, \"Title\": title})\n",
    "\n",
    "df = pd.DataFrame(data_list)\n",
    "print(df)"
   ]
  }
 ],
 "metadata": {
  "kernelspec": {
   "display_name": "Python 3",
   "language": "python",
   "name": "python3"
  },
  "language_info": {
   "codemirror_mode": {
    "name": "ipython",
    "version": 3
   },
   "file_extension": ".py",
   "mimetype": "text/x-python",
   "name": "python",
   "nbconvert_exporter": "python",
   "pygments_lexer": "ipython3",
   "version": "3.11.4"
  },
  "orig_nbformat": 4
 },
 "nbformat": 4,
 "nbformat_minor": 2
}
